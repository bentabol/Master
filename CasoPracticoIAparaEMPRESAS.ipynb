{
  "nbformat": 4,
  "nbformat_minor": 0,
  "metadata": {
    "colab": {
      "provenance": []
    },
    "kernelspec": {
      "name": "python3",
      "display_name": "Python 3"
    },
    "language_info": {
      "name": "python"
    }
  },
  "cells": [
    {
      "cell_type": "markdown",
      "source": [
        "Paso 1: Definir el contexto del problema\n",
        "\n",
        "*  Primero, entenderemos que se tienen 5 imágenes y el objetivo es encontrar la que maximice el número de clics en el banner.\n",
        "\n",
        "\n"
      ],
      "metadata": {
        "id": "HT3xYEvLOxMg"
      }
    },
    {
      "cell_type": "code",
      "execution_count": 1,
      "metadata": {
        "id": "z_g8Uo9fOvf2"
      },
      "outputs": [],
      "source": [
        "import numpy as np\n",
        "import matplotlib.pyplot as plt\n",
        "\n",
        "# Supongamos que tenemos 5 imágenes, a cada imagen se le asignará una tasa de clics.\n",
        "# Esto representará el comportamiento real de los usuarios en cuanto a qué imagen prefieren.\n",
        "\n",
        "conversion_rates = [0.05, 0.1, 0.12, 0.08, 0.15]  # tasas de conversión(tasa de clicks) simuladas para cada imagen\n",
        "n_images = len(conversion_rates)\n",
        "n_impressions = 1000  # número de impresiones (número de juegos)\n",
        "\n",
        "np.random.seed(42)"
      ]
    },
    {
      "cell_type": "markdown",
      "source": [
        "Paso 2: Modificar la función del bandido multibrazo\n",
        "\n",
        "\n",
        "*  Implementaremos el método del bandido multibrazo para explorar diferentes imágenes con un balance entre exploración (probar imágenes nuevas) y explotación (usar las imágenes que han demostrado ser mejores).\n",
        "\n",
        "*   Epsilon controla el balance si tenemos un valor epsilon bajo entonces promueve la explotacion que consistiria en usar la imagen con mejor desempeño, sin embargo si epsilon es alto entonces llevamos a cabo exploración donde probaría otras imagenes mas frecuentemente.\n"
      ],
      "metadata": {
        "id": "hl2YfxKpPCJK"
      }
    },
    {
      "cell_type": "code",
      "source": [
        "def multi_armed_bandit(num_games=1000, epsilon=0.1, verbose=False):\n",
        "    \"\"\"\n",
        "    Simula el problema del bandido multibrazo para 5 imágenes con tasas de conversión desconocidas.\n",
        "    :param num_games: número de impresiones (número de iteraciones)\n",
        "    :param epsilon: ratio de exploración/explotación (0.1 significaría 10% de exploración, 90% de explotación)\n",
        "    :param verbose: Si True, imprime resultados intermedios\n",
        "    :return: Q_values: lista con el valor de Q (clics/impresiones) de cada imagen\n",
        "             clicks_per_image: número total de clics por imagen\n",
        "    \"\"\"\n",
        "\n",
        "    n_images = 5  # número de imágenes\n",
        "    clicks_per_image = np.zeros(n_images)  # clics acumulados por imagen\n",
        "    impressions_per_image = np.zeros(n_images)  # impresiones acumuladas por imagen\n",
        "    Q_values = np.zeros(n_images)  # valor Q para cada imagen\n",
        "\n",
        "    for game in range(num_games):\n",
        "        # Decidir si explorar o explotar\n",
        "        if np.random.random() < epsilon:\n",
        "            # Exploración: escoger una imagen al azar\n",
        "            chosen_image = np.random.choice(n_images)\n",
        "        else:\n",
        "            # Explotación: escoger la imagen con el mejor valor Q actual\n",
        "            chosen_image = np.argmax(Q_values)\n",
        "\n",
        "        # Simular un clic o no clic para la imagen escogida\n",
        "        if np.random.random() < conversion_rates[chosen_image]:\n",
        "            clicks_per_image[chosen_image] += 1\n",
        "\n",
        "        # Actualizar las impresiones\n",
        "        impressions_per_image[chosen_image] += 1\n",
        "\n",
        "        # Actualizar el valor Q para la imagen escogida\n",
        "        Q_values[chosen_image] = clicks_per_image[chosen_image] / impressions_per_image[chosen_image]\n",
        "\n",
        "        # Si verbose es True, imprimimos resultados intermedios\n",
        "        if verbose and game % 100 == 0:\n",
        "            print(f\"Juego {game}: Imágenes Q-values: {Q_values}\")\n",
        "\n",
        "    return Q_values, clicks_per_image"
      ],
      "metadata": {
        "id": "dpiwvtr0PG7A"
      },
      "execution_count": 3,
      "outputs": []
    },
    {
      "cell_type": "markdown",
      "source": [
        "Paso 3: Ejecutar el experimento y responder las preguntas\n",
        "- Llevamos a cabo varias simulaciones variando el valor de epsilon.\n",
        "---\n",
        "\n",
        "*   (a) ¿Cuál es el valor de epsilon que maximiza la imagen con mayor número de clics?\n",
        "\n",
        "Probamos diferentes valores de epsilon y observamos cual nos proporciona el mayor numero de clicks\n",
        "\n"
      ],
      "metadata": {
        "id": "jRlaYwDNPt8j"
      }
    },
    {
      "cell_type": "code",
      "source": [
        "epsilons = [0.01, 0.05, 0.1, 0.2, 0.5]\n",
        "best_image_per_epsilon = []\n",
        "clicks_per_epsilon = []\n",
        "\n",
        "for epsilon in epsilons:\n",
        "    Q_values, clicks_per_image = multi_armed_bandit(num_games=1000, epsilon=epsilon)\n",
        "    best_image = np.argmax(Q_values)\n",
        "    best_image_per_epsilon.append(best_image)\n",
        "    clicks_per_epsilon.append(clicks_per_image[best_image])\n",
        "    print(f\"Epsilon: {epsilon}, Mejor imagen: {best_image}, Clics: {clicks_per_image[best_image]}\")"
      ],
      "metadata": {
        "colab": {
          "base_uri": "https://localhost:8080/"
        },
        "id": "tp5n3W3bP8xf",
        "outputId": "d88cb2d0-14b9-4390-d96f-dc20c0956c64"
      },
      "execution_count": 4,
      "outputs": [
        {
          "output_type": "stream",
          "name": "stdout",
          "text": [
            "Epsilon: 0.01, Mejor imagen: 4, Clics: 9.0\n",
            "Epsilon: 0.05, Mejor imagen: 2, Clics: 109.0\n",
            "Epsilon: 0.1, Mejor imagen: 4, Clics: 120.0\n",
            "Epsilon: 0.2, Mejor imagen: 4, Clics: 118.0\n",
            "Epsilon: 0.5, Mejor imagen: 4, Clics: 77.0\n"
          ]
        }
      ]
    },
    {
      "cell_type": "markdown",
      "source": [
        "- (b) ¿Cuál es la imagen que más clics obtiene y cuántos?\n",
        "Tras simular distintos valores de epsilon podemos determinar que imagen recibe mas clicks y cuantos tuvo exactamente"
      ],
      "metadata": {
        "id": "cEGFNiC2QHRZ"
      }
    },
    {
      "cell_type": "code",
      "source": [
        "# Encuentra la mejor configuración global\n",
        "best_epsilon_idx = np.argmax(clicks_per_epsilon)\n",
        "best_epsilon = epsilons[best_epsilon_idx]\n",
        "best_image = best_image_per_epsilon[best_epsilon_idx]\n",
        "\n",
        "print(f\"La imagen que más clics obtiene es la imagen {best_image} con {clicks_per_epsilon[best_epsilon_idx]} clics\")\n",
        "print(f\"El valor de epsilon que maximiza los clics es: {best_epsilon}\")"
      ],
      "metadata": {
        "colab": {
          "base_uri": "https://localhost:8080/"
        },
        "id": "iWsWBImlQQmD",
        "outputId": "e7c8046e-314f-496d-c4f3-ca8a53e4b5c2"
      },
      "execution_count": 5,
      "outputs": [
        {
          "output_type": "stream",
          "name": "stdout",
          "text": [
            "La imagen que más clics obtiene es la imagen 4 con 120.0 clics\n",
            "El valor de epsilon que maximiza los clics es: 0.1\n"
          ]
        }
      ]
    },
    {
      "cell_type": "markdown",
      "source": [
        "- (c) ¿Qué sucede con una ratio de explotación del 100%?\n",
        "Si queremos lograr esto conlleva un valor de epsilon de 0 ya que no se permite la exploración"
      ],
      "metadata": {
        "id": "NBViyVtUQURi"
      }
    },
    {
      "cell_type": "code",
      "source": [
        "# Ratio de explotación del 100% (epsilon = 0)\n",
        "Q_values, clicks_per_image = multi_armed_bandit(num_games=1000, epsilon=0)\n",
        "best_image = np.argmax(Q_values)\n",
        "\n",
        "print(f\"Con ratio de explotación del 100%, la mejor imagen es la imagen {best_image} con {clicks_per_image[best_image]} clics\")"
      ],
      "metadata": {
        "colab": {
          "base_uri": "https://localhost:8080/"
        },
        "id": "JoZe9YdSQc7b",
        "outputId": "1836e9bd-a74d-4a24-ad24-cdc1dd38e15a"
      },
      "execution_count": 6,
      "outputs": [
        {
          "output_type": "stream",
          "name": "stdout",
          "text": [
            "Con ratio de explotación del 100%, la mejor imagen es la imagen 0 con 51.0 clics\n"
          ]
        }
      ]
    },
    {
      "cell_type": "markdown",
      "source": [
        "Paso 4: Visualización de resultados"
      ],
      "metadata": {
        "id": "urxQixYFQgir"
      }
    },
    {
      "cell_type": "code",
      "source": [
        "# Visualizar el número de clics por epsilon\n",
        "plt.plot(epsilons, clicks_per_epsilon, marker='o')\n",
        "plt.title('Clics obtenidos por la mejor imagen según epsilon')\n",
        "plt.xlabel('Epsilon (ratio de exploración)')\n",
        "plt.ylabel('Clics obtenidos')\n",
        "plt.show()"
      ],
      "metadata": {
        "colab": {
          "base_uri": "https://localhost:8080/",
          "height": 473
        },
        "id": "EcBkIdjxQjSS",
        "outputId": "67b0b8dd-0279-438d-b324-95694abf3b3b"
      },
      "execution_count": 7,
      "outputs": [
        {
          "output_type": "display_data",
          "data": {
            "text/plain": [
              "<Figure size 640x480 with 1 Axes>"
            ],
            "image/png": "[encoded data removed]"
          },
          "metadata": {}
        }
      ]
    }
  ]
}